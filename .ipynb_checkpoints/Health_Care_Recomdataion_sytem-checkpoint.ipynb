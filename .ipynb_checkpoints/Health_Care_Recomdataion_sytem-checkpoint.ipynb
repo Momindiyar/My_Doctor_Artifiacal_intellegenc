{
 "cells": [
  {
   "cell_type": "markdown",
   "id": "0c56ad2b-7c85-4c94-8d87-136dac34a944",
   "metadata": {},
   "source": [
    "# This Project base on the Health Care Recomendation sytem "
   ]
  },
  {
   "cell_type": "code",
   "execution_count": null,
   "id": "02e8dab0-5634-452f-8b99-78a3093ef0f2",
   "metadata": {},
   "outputs": [],
   "source": [
    "# upload the all Important Libery\n",
    "import pandas as pd \n",
    "import numpy as np \n",
    "import seaborn as sns \n",
    "import matplotlib.pyplot as plt \n"
   ]
  },
  {
   "cell_type": "code",
   "execution_count": 27,
   "id": "1c9805dc-d4ee-42b5-b525-6293e53d3823",
   "metadata": {},
   "outputs": [],
   "source": [
    "dataset =pd.read_csv(\"Training.csv\")"
   ]
  },
  {
   "cell_type": "code",
   "execution_count": 28,
   "id": "e820e52c-0241-442b-82ff-8755d27e7aec",
   "metadata": {},
   "outputs": [
    {
     "data": {
      "text/html": [
       "<div>\n",
       "<style scoped>\n",
       "    .dataframe tbody tr th:only-of-type {\n",
       "        vertical-align: middle;\n",
       "    }\n",
       "\n",
       "    .dataframe tbody tr th {\n",
       "        vertical-align: top;\n",
       "    }\n",
       "\n",
       "    .dataframe thead th {\n",
       "        text-align: right;\n",
       "    }\n",
       "</style>\n",
       "<table border=\"1\" class=\"dataframe\">\n",
       "  <thead>\n",
       "    <tr style=\"text-align: right;\">\n",
       "      <th></th>\n",
       "      <th>itching</th>\n",
       "      <th>skin_rash</th>\n",
       "      <th>nodal_skin_eruptions</th>\n",
       "      <th>continuous_sneezing</th>\n",
       "      <th>shivering</th>\n",
       "      <th>chills</th>\n",
       "      <th>joint_pain</th>\n",
       "      <th>stomach_pain</th>\n",
       "      <th>acidity</th>\n",
       "      <th>ulcers_on_tongue</th>\n",
       "      <th>...</th>\n",
       "      <th>blackheads</th>\n",
       "      <th>scurring</th>\n",
       "      <th>skin_peeling</th>\n",
       "      <th>silver_like_dusting</th>\n",
       "      <th>small_dents_in_nails</th>\n",
       "      <th>inflammatory_nails</th>\n",
       "      <th>blister</th>\n",
       "      <th>red_sore_around_nose</th>\n",
       "      <th>yellow_crust_ooze</th>\n",
       "      <th>prognosis</th>\n",
       "    </tr>\n",
       "  </thead>\n",
       "  <tbody>\n",
       "    <tr>\n",
       "      <th>0</th>\n",
       "      <td>1</td>\n",
       "      <td>1</td>\n",
       "      <td>1</td>\n",
       "      <td>0</td>\n",
       "      <td>0</td>\n",
       "      <td>0</td>\n",
       "      <td>0</td>\n",
       "      <td>0</td>\n",
       "      <td>0</td>\n",
       "      <td>0</td>\n",
       "      <td>...</td>\n",
       "      <td>0</td>\n",
       "      <td>0</td>\n",
       "      <td>0</td>\n",
       "      <td>0</td>\n",
       "      <td>0</td>\n",
       "      <td>0</td>\n",
       "      <td>0</td>\n",
       "      <td>0</td>\n",
       "      <td>0</td>\n",
       "      <td>Fungal infection</td>\n",
       "    </tr>\n",
       "    <tr>\n",
       "      <th>1</th>\n",
       "      <td>0</td>\n",
       "      <td>1</td>\n",
       "      <td>1</td>\n",
       "      <td>0</td>\n",
       "      <td>0</td>\n",
       "      <td>0</td>\n",
       "      <td>0</td>\n",
       "      <td>0</td>\n",
       "      <td>0</td>\n",
       "      <td>0</td>\n",
       "      <td>...</td>\n",
       "      <td>0</td>\n",
       "      <td>0</td>\n",
       "      <td>0</td>\n",
       "      <td>0</td>\n",
       "      <td>0</td>\n",
       "      <td>0</td>\n",
       "      <td>0</td>\n",
       "      <td>0</td>\n",
       "      <td>0</td>\n",
       "      <td>Fungal infection</td>\n",
       "    </tr>\n",
       "    <tr>\n",
       "      <th>2</th>\n",
       "      <td>1</td>\n",
       "      <td>0</td>\n",
       "      <td>1</td>\n",
       "      <td>0</td>\n",
       "      <td>0</td>\n",
       "      <td>0</td>\n",
       "      <td>0</td>\n",
       "      <td>0</td>\n",
       "      <td>0</td>\n",
       "      <td>0</td>\n",
       "      <td>...</td>\n",
       "      <td>0</td>\n",
       "      <td>0</td>\n",
       "      <td>0</td>\n",
       "      <td>0</td>\n",
       "      <td>0</td>\n",
       "      <td>0</td>\n",
       "      <td>0</td>\n",
       "      <td>0</td>\n",
       "      <td>0</td>\n",
       "      <td>Fungal infection</td>\n",
       "    </tr>\n",
       "    <tr>\n",
       "      <th>3</th>\n",
       "      <td>1</td>\n",
       "      <td>1</td>\n",
       "      <td>0</td>\n",
       "      <td>0</td>\n",
       "      <td>0</td>\n",
       "      <td>0</td>\n",
       "      <td>0</td>\n",
       "      <td>0</td>\n",
       "      <td>0</td>\n",
       "      <td>0</td>\n",
       "      <td>...</td>\n",
       "      <td>0</td>\n",
       "      <td>0</td>\n",
       "      <td>0</td>\n",
       "      <td>0</td>\n",
       "      <td>0</td>\n",
       "      <td>0</td>\n",
       "      <td>0</td>\n",
       "      <td>0</td>\n",
       "      <td>0</td>\n",
       "      <td>Fungal infection</td>\n",
       "    </tr>\n",
       "    <tr>\n",
       "      <th>4</th>\n",
       "      <td>1</td>\n",
       "      <td>1</td>\n",
       "      <td>1</td>\n",
       "      <td>0</td>\n",
       "      <td>0</td>\n",
       "      <td>0</td>\n",
       "      <td>0</td>\n",
       "      <td>0</td>\n",
       "      <td>0</td>\n",
       "      <td>0</td>\n",
       "      <td>...</td>\n",
       "      <td>0</td>\n",
       "      <td>0</td>\n",
       "      <td>0</td>\n",
       "      <td>0</td>\n",
       "      <td>0</td>\n",
       "      <td>0</td>\n",
       "      <td>0</td>\n",
       "      <td>0</td>\n",
       "      <td>0</td>\n",
       "      <td>Fungal infection</td>\n",
       "    </tr>\n",
       "  </tbody>\n",
       "</table>\n",
       "<p>5 rows × 133 columns</p>\n",
       "</div>"
      ],
      "text/plain": [
       "   itching  skin_rash  nodal_skin_eruptions  continuous_sneezing  shivering  \\\n",
       "0        1          1                     1                    0          0   \n",
       "1        0          1                     1                    0          0   \n",
       "2        1          0                     1                    0          0   \n",
       "3        1          1                     0                    0          0   \n",
       "4        1          1                     1                    0          0   \n",
       "\n",
       "   chills  joint_pain  stomach_pain  acidity  ulcers_on_tongue  ...  \\\n",
       "0       0           0             0        0                 0  ...   \n",
       "1       0           0             0        0                 0  ...   \n",
       "2       0           0             0        0                 0  ...   \n",
       "3       0           0             0        0                 0  ...   \n",
       "4       0           0             0        0                 0  ...   \n",
       "\n",
       "   blackheads  scurring  skin_peeling  silver_like_dusting  \\\n",
       "0           0         0             0                    0   \n",
       "1           0         0             0                    0   \n",
       "2           0         0             0                    0   \n",
       "3           0         0             0                    0   \n",
       "4           0         0             0                    0   \n",
       "\n",
       "   small_dents_in_nails  inflammatory_nails  blister  red_sore_around_nose  \\\n",
       "0                     0                   0        0                     0   \n",
       "1                     0                   0        0                     0   \n",
       "2                     0                   0        0                     0   \n",
       "3                     0                   0        0                     0   \n",
       "4                     0                   0        0                     0   \n",
       "\n",
       "   yellow_crust_ooze         prognosis  \n",
       "0                  0  Fungal infection  \n",
       "1                  0  Fungal infection  \n",
       "2                  0  Fungal infection  \n",
       "3                  0  Fungal infection  \n",
       "4                  0  Fungal infection  \n",
       "\n",
       "[5 rows x 133 columns]"
      ]
     },
     "execution_count": 28,
     "metadata": {},
     "output_type": "execute_result"
    }
   ],
   "source": [
    "dataset.head(5)"
   ]
  },
  {
   "cell_type": "code",
   "execution_count": 29,
   "id": "086988a6-0b60-4c5b-bcc5-c4ad04109ac6",
   "metadata": {},
   "outputs": [
    {
     "data": {
      "text/plain": [
       "(4920, 133)"
      ]
     },
     "execution_count": 29,
     "metadata": {},
     "output_type": "execute_result"
    }
   ],
   "source": [
    "dataset.shape"
   ]
  },
  {
   "cell_type": "code",
   "execution_count": 30,
   "id": "0887b30e-ed3e-47dc-880d-07ebc97c7c74",
   "metadata": {},
   "outputs": [
    {
     "data": {
      "text/plain": [
       "array(['Fungal infection', 'Allergy', 'GERD', 'Chronic cholestasis',\n",
       "       'Drug Reaction', 'Peptic ulcer diseae', 'AIDS', 'Diabetes ',\n",
       "       'Gastroenteritis', 'Bronchial Asthma', 'Hypertension ', 'Migraine',\n",
       "       'Cervical spondylosis', 'Paralysis (brain hemorrhage)', 'Jaundice',\n",
       "       'Malaria', 'Chicken pox', 'Dengue', 'Typhoid', 'hepatitis A',\n",
       "       'Hepatitis B', 'Hepatitis C', 'Hepatitis D', 'Hepatitis E',\n",
       "       'Alcoholic hepatitis', 'Tuberculosis', 'Common Cold', 'Pneumonia',\n",
       "       'Dimorphic hemmorhoids(piles)', 'Heart attack', 'Varicose veins',\n",
       "       'Hypothyroidism', 'Hyperthyroidism', 'Hypoglycemia',\n",
       "       'Osteoarthristis', 'Arthritis',\n",
       "       '(vertigo) Paroymsal  Positional Vertigo', 'Acne',\n",
       "       'Urinary tract infection', 'Psoriasis', 'Impetigo'], dtype=object)"
      ]
     },
     "execution_count": 30,
     "metadata": {},
     "output_type": "execute_result"
    }
   ],
   "source": [
    "dataset[\"prognosis\"].unique()"
   ]
  },
  {
   "cell_type": "code",
   "execution_count": 9,
   "id": "2bcfaf32-1960-479a-95ee-49e18b1c8744",
   "metadata": {},
   "outputs": [
    {
     "data": {
      "text/plain": [
       "41"
      ]
     },
     "execution_count": 9,
     "metadata": {},
     "output_type": "execute_result"
    }
   ],
   "source": [
    "# Length of the \"prognosis\"\n",
    "len(dataset[\"prognosis\"].unique())    # so the totall number of disease is 41 "
   ]
  },
  {
   "cell_type": "markdown",
   "id": "2c746f8e-809f-4c90-920b-047354255e18",
   "metadata": {},
   "source": [
    "# Traning And Testing data"
   ]
  },
  {
   "cell_type": "code",
   "execution_count": 12,
   "id": "79898f66-7a9a-433a-b9f3-c4e38beb4fce",
   "metadata": {},
   "outputs": [],
   "source": [
    "from sklearn.model_selection import train_test_split"
   ]
  },
  {
   "cell_type": "code",
   "execution_count": 31,
   "id": "4c78efc7-5215-49b7-a361-d6909d85bd67",
   "metadata": {},
   "outputs": [
    {
     "data": {
      "text/plain": [
       "(4920, 132)"
      ]
     },
     "execution_count": 31,
     "metadata": {},
     "output_type": "execute_result"
    }
   ],
   "source": [
    "x = dataset.drop(\"prognosis\" , axis=1)\n",
    "y = dataset[\"prognosis\"]\n",
    "x.shape"
   ]
  },
  {
   "cell_type": "code",
   "execution_count": 32,
   "id": "fd48f12b-efdc-4b79-955c-f95cb3ef692b",
   "metadata": {},
   "outputs": [
    {
     "data": {
      "text/plain": [
       "(4920,)"
      ]
     },
     "execution_count": 32,
     "metadata": {},
     "output_type": "execute_result"
    }
   ],
   "source": [
    "y.shape"
   ]
  },
  {
   "cell_type": "markdown",
   "id": "0ae27d9c-f3ef-42b4-b41a-cd9b028ee9f7",
   "metadata": {},
   "source": [
    "# Encoding \n"
   ]
  },
  {
   "cell_type": "code",
   "execution_count": 33,
   "id": "bffd19ae-60da-4aa1-8d34-7adab9dd51c7",
   "metadata": {},
   "outputs": [],
   "source": [
    "from sklearn .preprocessing import LabelEncoder"
   ]
  },
  {
   "cell_type": "code",
   "execution_count": 40,
   "id": "b47be75d-db6c-471c-9ab6-5d48fd47707b",
   "metadata": {},
   "outputs": [],
   "source": [
    "le = LabelEncoder()\n",
    "y=pd.DataFrame(le.fit_transform(y))"
   ]
  },
  {
   "cell_type": "code",
   "execution_count": null,
   "id": "fe62fdc4-9ed3-4d67-8764-8756de728913",
   "metadata": {
    "scrolled": true
   },
   "outputs": [],
   "source": []
  },
  {
   "cell_type": "code",
   "execution_count": 45,
   "id": "dae455b6-f77a-42a4-a545-b14957e1e9fd",
   "metadata": {},
   "outputs": [],
   "source": [
    "x_train ,x_test , y_train ,y_test = train_test_split(x,y , random_state=20 , test_size=0.2)"
   ]
  },
  {
   "cell_type": "code",
   "execution_count": null,
   "id": "ac86db9b-297c-42c2-a09c-d9f9b6d18348",
   "metadata": {},
   "outputs": [],
   "source": []
  },
  {
   "cell_type": "markdown",
   "id": "7aa5dfff-d669-46b1-83be-ee0ab11febe1",
   "metadata": {},
   "source": [
    "# Models Training ....To check The Perfect model for these data that are give me Best Accuracy "
   ]
  },
  {
   "cell_type": "code",
   "execution_count": 51,
   "id": "e11bc6e5-9900-4bd1-a46f-3c332c366847",
   "metadata": {},
   "outputs": [],
   "source": [
    "# imort all libery...from sklearn \n",
    "from sklearn .naive_bayes import MultinomialNB\n",
    "from sklearn .svm  import SVC\n",
    "from sklearn .neighbors import KNeighborsClassifier\n",
    "from sklearn .ensemble import RandomForestClassifier , BaggingClassifier ,GradientBoostingClassifier\n",
    "from sklearn .metrics import confusion_matrix , accuracy_score\n"
   ]
  },
  {
   "cell_type": "code",
   "execution_count": 53,
   "id": "8ed80ca2-ff5e-4f98-a761-213b6f6c96d7",
   "metadata": {},
   "outputs": [],
   "source": [
    "# making the Dataframe to for the all model to train at time to check the which are model are give best accuracy \n",
    "model = {\"SVM\" :SVC(kernel=\"linear\"), \n",
    "        \"Knn\": KNeighborsClassifier(n_neighbors=5 ) ,\n",
    "        \"RandomForest\": RandomForestClassifier(n_estimators=100 ,random_state =42 ),\n",
    "         \"Naive_Bayes\":MultinomialNB(),\n",
    "         \"GradientBoosting\":GradientBoostingClassifier(n_estimators=100 , random_state=42)}"
   ]
  },
  {
   "cell_type": "code",
   "execution_count": 57,
   "id": "8bfbed12-9b0a-40f5-a698-80b973e3c6c1",
   "metadata": {},
   "outputs": [
    {
     "name": "stdout",
     "output_type": "stream",
     "text": [
      "SVM : SVC(kernel='linear')\n",
      "Knn : KNeighborsClassifier()\n",
      "RandomForest : RandomForestClassifier(random_state=42)\n",
      "Naive_Bayes : MultinomialNB()\n",
      "GradientBoosting : GradientBoostingClassifier(random_state=42)\n"
     ]
    }
   ],
   "source": [
    "for model_name , models in model.items():  # we get key as value by funcation called Items()\n",
    "    print(model_name , \":\" , models)"
   ]
  },
  {
   "cell_type": "code",
   "execution_count": 59,
   "id": "795fde11-40b1-4018-b26c-0f01f380872a",
   "metadata": {},
   "outputs": [
    {
     "name": "stderr",
     "output_type": "stream",
     "text": [
      "C:\\Users\\DELL\\AppData\\Local\\anaconda3\\Lib\\site-packages\\sklearn\\utils\\validation.py:1300: DataConversionWarning: A column-vector y was passed when a 1d array was expected. Please change the shape of y to (n_samples, ), for example using ravel().\n",
      "  y = column_or_1d(y, warn=True)\n"
     ]
    },
    {
     "name": "stdout",
     "output_type": "stream",
     "text": [
      "SVM accuracy : 1.0\n",
      "SVM Confusion_matric\n",
      "[[24, 0, 0,..., 0, 0, 0],\n",
      " [ 0,27, 0,..., 0, 0, 0],\n",
      " [ 0, 0,18,..., 0, 0, 0],\n",
      " ...,\n",
      " [ 0, 0, 0,...,24, 0, 0],\n",
      " [ 0, 0, 0,..., 0,33, 0],\n",
      " [ 0, 0, 0,..., 0, 0,22]]\n"
     ]
    },
    {
     "name": "stderr",
     "output_type": "stream",
     "text": [
      "C:\\Users\\DELL\\AppData\\Local\\anaconda3\\Lib\\site-packages\\sklearn\\neighbors\\_classification.py:238: DataConversionWarning: A column-vector y was passed when a 1d array was expected. Please change the shape of y to (n_samples,), for example using ravel().\n",
      "  return self._fit(X, y)\n"
     ]
    },
    {
     "name": "stdout",
     "output_type": "stream",
     "text": [
      "Knn accuracy : 1.0\n",
      "Knn Confusion_matric\n",
      "[[24, 0, 0,..., 0, 0, 0],\n",
      " [ 0,27, 0,..., 0, 0, 0],\n",
      " [ 0, 0,18,..., 0, 0, 0],\n",
      " ...,\n",
      " [ 0, 0, 0,...,24, 0, 0],\n",
      " [ 0, 0, 0,..., 0,33, 0],\n",
      " [ 0, 0, 0,..., 0, 0,22]]\n"
     ]
    },
    {
     "name": "stderr",
     "output_type": "stream",
     "text": [
      "C:\\Users\\DELL\\AppData\\Local\\anaconda3\\Lib\\site-packages\\sklearn\\base.py:1474: DataConversionWarning: A column-vector y was passed when a 1d array was expected. Please change the shape of y to (n_samples,), for example using ravel().\n",
      "  return fit_method(estimator, *args, **kwargs)\n"
     ]
    },
    {
     "name": "stdout",
     "output_type": "stream",
     "text": [
      "RandomForest accuracy : 1.0\n",
      "RandomForest Confusion_matric\n",
      "[[24, 0, 0,..., 0, 0, 0],\n",
      " [ 0,27, 0,..., 0, 0, 0],\n",
      " [ 0, 0,18,..., 0, 0, 0],\n",
      " ...,\n",
      " [ 0, 0, 0,...,24, 0, 0],\n",
      " [ 0, 0, 0,..., 0,33, 0],\n",
      " [ 0, 0, 0,..., 0, 0,22]]\n",
      "Naive_Bayes accuracy : 1.0\n",
      "Naive_Bayes Confusion_matric\n",
      "[[24, 0, 0,..., 0, 0, 0],\n",
      " [ 0,27, 0,..., 0, 0, 0],\n",
      " [ 0, 0,18,..., 0, 0, 0],\n",
      " ...,\n",
      " [ 0, 0, 0,...,24, 0, 0],\n",
      " [ 0, 0, 0,..., 0,33, 0],\n",
      " [ 0, 0, 0,..., 0, 0,22]]\n"
     ]
    },
    {
     "name": "stderr",
     "output_type": "stream",
     "text": [
      "C:\\Users\\DELL\\AppData\\Local\\anaconda3\\Lib\\site-packages\\sklearn\\utils\\validation.py:1300: DataConversionWarning: A column-vector y was passed when a 1d array was expected. Please change the shape of y to (n_samples, ), for example using ravel().\n",
      "  y = column_or_1d(y, warn=True)\n",
      "C:\\Users\\DELL\\AppData\\Local\\anaconda3\\Lib\\site-packages\\sklearn\\preprocessing\\_label.py:114: DataConversionWarning: A column-vector y was passed when a 1d array was expected. Please change the shape of y to (n_samples, ), for example using ravel().\n",
      "  y = column_or_1d(y, warn=True)\n"
     ]
    },
    {
     "name": "stdout",
     "output_type": "stream",
     "text": [
      "GradientBoosting accuracy : 1.0\n",
      "GradientBoosting Confusion_matric\n",
      "[[24, 0, 0,..., 0, 0, 0],\n",
      " [ 0,27, 0,..., 0, 0, 0],\n",
      " [ 0, 0,18,..., 0, 0, 0],\n",
      " ...,\n",
      " [ 0, 0, 0,...,24, 0, 0],\n",
      " [ 0, 0, 0,..., 0,33, 0],\n",
      " [ 0, 0, 0,..., 0, 0,22]]\n"
     ]
    }
   ],
   "source": [
    "for model_name , models in model.items():  # we get key as value by funcation called Items()\n",
    "    # to train the model\n",
    "    models.fit(x_train,y_train)\n",
    "    # test model \n",
    "    predication=models.predict(x_test)\n",
    "    # to calculate the Accuracy \n",
    "    accuracy=accuracy_score(y_test , predication)\n",
    "    # calcute the matric_confsion\n",
    "    cf =confusion_matrix(y_test , predication)\n",
    "    # to print the all perameter \n",
    "    print(f\"{model_name} accuracy : {accuracy}\")\n",
    "    print(f\"{model_name} Confusion_matric\")\n",
    "    print(np.array2string(cf,separator=\",\" ))"
   ]
  },
  {
   "cell_type": "code",
   "execution_count": null,
   "id": "bcf53f89-ccd7-45e6-8c9c-0513276cf6de",
   "metadata": {},
   "outputs": [],
   "source": [
    "# so we check the all model are give good accuracy \n",
    "# so select any model for the Recomdeation sytem "
   ]
  }
 ],
 "metadata": {
  "kernelspec": {
   "display_name": "Python 3 (ipykernel)",
   "language": "python",
   "name": "python3"
  },
  "language_info": {
   "codemirror_mode": {
    "name": "ipython",
    "version": 3
   },
   "file_extension": ".py",
   "mimetype": "text/x-python",
   "name": "python",
   "nbconvert_exporter": "python",
   "pygments_lexer": "ipython3",
   "version": "3.12.4"
  }
 },
 "nbformat": 4,
 "nbformat_minor": 5
}
